{
  "cells": [
    {
      "cell_type": "markdown",
      "metadata": {
        "id": "Avr_BuLrV23M"
      },
      "source": [
        "# Assignment Chapter 2 - MACHINE LEARNING [Case #1]\n",
        "Startup Campus, Indonesia - `Artificial Intelligence (AI)` (Batch 7)\n",
        "* Dataset: SC_HW1_bank_data\n",
        "* Libraries: Pandas, Numpy, Scikit-learn\n",
        "* Objective: Classification with Supervised Machine Learning Models\n",
        "\n",
        "`PERSYARATAN` Semua modul (termasuk versi yang sesuai) sudah di-install dengan benar.\n",
        "<br>`CARA PENGERJAAN` Lengkapi baris kode yang ditandai dengan **#TODO**.\n",
        "<br>`TARGET PORTFOLIO` Peserta mampu membandingkan akurasi klasifikasi dari berbagai model *supervised learning*."
      ]
    },
    {
      "cell_type": "markdown",
      "metadata": {
        "id": "RUIg363RYcAZ"
      },
      "source": [
        "### Import Library"
      ]
    },
    {
      "cell_type": "code",
      "execution_count": null,
      "metadata": {
        "id": "CWrO8BImYcAa"
      },
      "outputs": [],
      "source": [
        "import pandas as pd\n",
        "import numpy as np\n",
        "\n",
        "from sklearn.preprocessing import MinMaxScaler\n",
        "from sklearn.model_selection import train_test_split as tts\n",
        "from sklearn.model_selection import GridSearchCV\n",
        "\n",
        "from sklearn.metrics import classification_report\n",
        "from sklearn.metrics import accuracy_score\n",
        "from sklearn.metrics import confusion_matrix"
      ]
    },
    {
      "cell_type": "markdown",
      "metadata": {
        "id": "p_wYppbCYcAb"
      },
      "source": [
        "### Read Dataset"
      ]
    },
    {
      "cell_type": "code",
      "execution_count": null,
      "metadata": {
        "id": "bU29IupsYcAb",
        "outputId": "b6ae8787-c7ee-4aa5-fc35-f9be5c5fecac"
      },
      "outputs": [
        {
          "data": {
            "text/plain": [
              "Index(['RowNumber', 'CustomerId', 'Geography', 'Gender', 'Age', 'Tenure',\n",
              "       'Balance', 'NumOfProducts', 'HasCrCard', 'IsActiveMember',\n",
              "       'EstimatedSalary', 'Exited'],\n",
              "      dtype='object')"
            ]
          },
          "execution_count": 2,
          "metadata": {},
          "output_type": "execute_result"
        }
      ],
      "source": [
        "df = pd.read_csv('https://raw.githubusercontent.com/Rietaros/kampus_merdeka/main/SC_HW1_bank_data.csv')\n",
        "df.columns"
      ]
    },
    {
      "cell_type": "code",
      "execution_count": null,
      "metadata": {
        "id": "ySBcdpGy4rb3",
        "outputId": "99d84ac9-784a-4b99-c4ec-bdeff34b1d7c"
      },
      "outputs": [
        {
          "data": {
            "text/html": [
              "<div>\n",
              "<style scoped>\n",
              "    .dataframe tbody tr th:only-of-type {\n",
              "        vertical-align: middle;\n",
              "    }\n",
              "\n",
              "    .dataframe tbody tr th {\n",
              "        vertical-align: top;\n",
              "    }\n",
              "\n",
              "    .dataframe thead th {\n",
              "        text-align: right;\n",
              "    }\n",
              "</style>\n",
              "<table border=\"1\" class=\"dataframe\">\n",
              "  <thead>\n",
              "    <tr style=\"text-align: right;\">\n",
              "      <th></th>\n",
              "      <th>Geography</th>\n",
              "      <th>Gender</th>\n",
              "      <th>Age</th>\n",
              "      <th>Tenure</th>\n",
              "      <th>Balance</th>\n",
              "      <th>NumOfProducts</th>\n",
              "      <th>HasCrCard</th>\n",
              "      <th>IsActiveMember</th>\n",
              "      <th>EstimatedSalary</th>\n",
              "      <th>Exited</th>\n",
              "    </tr>\n",
              "  </thead>\n",
              "  <tbody>\n",
              "    <tr>\n",
              "      <th>0</th>\n",
              "      <td>France</td>\n",
              "      <td>Female</td>\n",
              "      <td>42</td>\n",
              "      <td>2</td>\n",
              "      <td>0.00</td>\n",
              "      <td>1</td>\n",
              "      <td>1</td>\n",
              "      <td>1</td>\n",
              "      <td>101348.88</td>\n",
              "      <td>1</td>\n",
              "    </tr>\n",
              "    <tr>\n",
              "      <th>1</th>\n",
              "      <td>Spain</td>\n",
              "      <td>Female</td>\n",
              "      <td>41</td>\n",
              "      <td>1</td>\n",
              "      <td>83807.86</td>\n",
              "      <td>1</td>\n",
              "      <td>0</td>\n",
              "      <td>1</td>\n",
              "      <td>112542.58</td>\n",
              "      <td>0</td>\n",
              "    </tr>\n",
              "    <tr>\n",
              "      <th>2</th>\n",
              "      <td>France</td>\n",
              "      <td>Female</td>\n",
              "      <td>42</td>\n",
              "      <td>8</td>\n",
              "      <td>159660.80</td>\n",
              "      <td>3</td>\n",
              "      <td>1</td>\n",
              "      <td>0</td>\n",
              "      <td>113931.57</td>\n",
              "      <td>1</td>\n",
              "    </tr>\n",
              "    <tr>\n",
              "      <th>3</th>\n",
              "      <td>France</td>\n",
              "      <td>Female</td>\n",
              "      <td>39</td>\n",
              "      <td>1</td>\n",
              "      <td>0.00</td>\n",
              "      <td>2</td>\n",
              "      <td>0</td>\n",
              "      <td>0</td>\n",
              "      <td>93826.63</td>\n",
              "      <td>0</td>\n",
              "    </tr>\n",
              "    <tr>\n",
              "      <th>4</th>\n",
              "      <td>Spain</td>\n",
              "      <td>Female</td>\n",
              "      <td>43</td>\n",
              "      <td>2</td>\n",
              "      <td>125510.82</td>\n",
              "      <td>1</td>\n",
              "      <td>1</td>\n",
              "      <td>1</td>\n",
              "      <td>79084.10</td>\n",
              "      <td>0</td>\n",
              "    </tr>\n",
              "  </tbody>\n",
              "</table>\n",
              "</div>"
            ],
            "text/plain": [
              "  Geography  Gender  Age  Tenure    Balance  NumOfProducts  HasCrCard  \\\n",
              "0    France  Female   42       2       0.00              1          1   \n",
              "1     Spain  Female   41       1   83807.86              1          0   \n",
              "2    France  Female   42       8  159660.80              3          1   \n",
              "3    France  Female   39       1       0.00              2          0   \n",
              "4     Spain  Female   43       2  125510.82              1          1   \n",
              "\n",
              "   IsActiveMember  EstimatedSalary  Exited  \n",
              "0               1        101348.88       1  \n",
              "1               1        112542.58       0  \n",
              "2               0        113931.57       1  \n",
              "3               0         93826.63       0  \n",
              "4               1         79084.10       0  "
            ]
          },
          "execution_count": 3,
          "metadata": {},
          "output_type": "execute_result"
        }
      ],
      "source": [
        "# TODO: Hilangkan kolom yang tidak relevan untuk pemodelan\n",
        "# Memilih kolom yang relevan\n",
        "df = df[['Geography', 'Gender', 'Age', 'Tenure', 'Balance', 'NumOfProducts',\n",
        "         'HasCrCard', 'IsActiveMember', 'EstimatedSalary', 'Exited']].copy()\n",
        "\n",
        "# Melihat data yang sudah difilter\n",
        "df.head()\n"
      ]
    },
    {
      "cell_type": "markdown",
      "metadata": {
        "id": "VAUrcQVIYcAe"
      },
      "source": [
        "### Preprocessing"
      ]
    },
    {
      "cell_type": "code",
      "execution_count": null,
      "metadata": {
        "id": "owVHMXqEYcAe"
      },
      "outputs": [],
      "source": [
        "# TODO: Lakukan One-Hot Encoder untuk data kategorikal, dengan fungsi pd.get_dummies\n",
        "df = pd.get_dummies(df, columns=['Gender', 'Geography', 'HasCrCard', 'IsActiveMember'])"
      ]
    },
    {
      "cell_type": "code",
      "execution_count": null,
      "metadata": {
        "id": "zMNWzfUbYcAf"
      },
      "outputs": [],
      "source": [
        "# TODO: Pisahkan fitur (X) dengan target (Y), dimana Y merujuk ke kolom \"Exited\"\n",
        "X = df.drop('Exited', axis=1)\n",
        "y = df['Exited']"
      ]
    },
    {
      "cell_type": "code",
      "execution_count": null,
      "metadata": {
        "id": "XWfdSiCxYcAg"
      },
      "outputs": [],
      "source": [
        "scaler = MinMaxScaler() # TODO: Lakukan scaling atau normalisasi\n",
        "X_transform = scaler.fit_transform(X)"
      ]
    },
    {
      "cell_type": "code",
      "execution_count": null,
      "metadata": {
        "id": "W5u5pH3uYcAg"
      },
      "outputs": [],
      "source": [
        "# Bagian ini digunakan jika Anda melakukan scaling atau normalisasi.\n",
        "# Jika tidak, code ini bisa dilewati dan diganti dengan code yang ada di dalam comment.\n",
        "\n",
        "X_transform = pd.DataFrame(X_transform, columns = X.columns)\n",
        "# X_transform = X.copy()"
      ]
    },
    {
      "cell_type": "markdown",
      "metadata": {
        "id": "4Pi0qKQAYcAh"
      },
      "source": [
        "### Train-Test Split"
      ]
    },
    {
      "cell_type": "code",
      "execution_count": null,
      "metadata": {
        "id": "0RDnybGDYcAh",
        "outputId": "ae48ee7d-984c-4df8-81f6-ff66c696c970"
      },
      "outputs": [
        {
          "data": {
            "text/html": [
              "<div>\n",
              "<style scoped>\n",
              "    .dataframe tbody tr th:only-of-type {\n",
              "        vertical-align: middle;\n",
              "    }\n",
              "\n",
              "    .dataframe tbody tr th {\n",
              "        vertical-align: top;\n",
              "    }\n",
              "\n",
              "    .dataframe thead th {\n",
              "        text-align: right;\n",
              "    }\n",
              "</style>\n",
              "<table border=\"1\" class=\"dataframe\">\n",
              "  <thead>\n",
              "    <tr style=\"text-align: right;\">\n",
              "      <th></th>\n",
              "      <th>Age</th>\n",
              "      <th>Tenure</th>\n",
              "      <th>Balance</th>\n",
              "      <th>NumOfProducts</th>\n",
              "      <th>EstimatedSalary</th>\n",
              "      <th>Exited</th>\n",
              "      <th>Gender_Female</th>\n",
              "      <th>Gender_Male</th>\n",
              "      <th>Geography_France</th>\n",
              "      <th>Geography_Germany</th>\n",
              "      <th>Geography_Spain</th>\n",
              "      <th>HasCrCard_0</th>\n",
              "      <th>HasCrCard_1</th>\n",
              "      <th>IsActiveMember_0</th>\n",
              "      <th>IsActiveMember_1</th>\n",
              "    </tr>\n",
              "  </thead>\n",
              "  <tbody>\n",
              "    <tr>\n",
              "      <th>0</th>\n",
              "      <td>42</td>\n",
              "      <td>2</td>\n",
              "      <td>0.00</td>\n",
              "      <td>1</td>\n",
              "      <td>101348.88</td>\n",
              "      <td>1</td>\n",
              "      <td>True</td>\n",
              "      <td>False</td>\n",
              "      <td>True</td>\n",
              "      <td>False</td>\n",
              "      <td>False</td>\n",
              "      <td>False</td>\n",
              "      <td>True</td>\n",
              "      <td>False</td>\n",
              "      <td>True</td>\n",
              "    </tr>\n",
              "    <tr>\n",
              "      <th>1</th>\n",
              "      <td>41</td>\n",
              "      <td>1</td>\n",
              "      <td>83807.86</td>\n",
              "      <td>1</td>\n",
              "      <td>112542.58</td>\n",
              "      <td>0</td>\n",
              "      <td>True</td>\n",
              "      <td>False</td>\n",
              "      <td>False</td>\n",
              "      <td>False</td>\n",
              "      <td>True</td>\n",
              "      <td>True</td>\n",
              "      <td>False</td>\n",
              "      <td>False</td>\n",
              "      <td>True</td>\n",
              "    </tr>\n",
              "    <tr>\n",
              "      <th>2</th>\n",
              "      <td>42</td>\n",
              "      <td>8</td>\n",
              "      <td>159660.80</td>\n",
              "      <td>3</td>\n",
              "      <td>113931.57</td>\n",
              "      <td>1</td>\n",
              "      <td>True</td>\n",
              "      <td>False</td>\n",
              "      <td>True</td>\n",
              "      <td>False</td>\n",
              "      <td>False</td>\n",
              "      <td>False</td>\n",
              "      <td>True</td>\n",
              "      <td>True</td>\n",
              "      <td>False</td>\n",
              "    </tr>\n",
              "    <tr>\n",
              "      <th>3</th>\n",
              "      <td>39</td>\n",
              "      <td>1</td>\n",
              "      <td>0.00</td>\n",
              "      <td>2</td>\n",
              "      <td>93826.63</td>\n",
              "      <td>0</td>\n",
              "      <td>True</td>\n",
              "      <td>False</td>\n",
              "      <td>True</td>\n",
              "      <td>False</td>\n",
              "      <td>False</td>\n",
              "      <td>True</td>\n",
              "      <td>False</td>\n",
              "      <td>True</td>\n",
              "      <td>False</td>\n",
              "    </tr>\n",
              "    <tr>\n",
              "      <th>4</th>\n",
              "      <td>43</td>\n",
              "      <td>2</td>\n",
              "      <td>125510.82</td>\n",
              "      <td>1</td>\n",
              "      <td>79084.10</td>\n",
              "      <td>0</td>\n",
              "      <td>True</td>\n",
              "      <td>False</td>\n",
              "      <td>False</td>\n",
              "      <td>False</td>\n",
              "      <td>True</td>\n",
              "      <td>False</td>\n",
              "      <td>True</td>\n",
              "      <td>False</td>\n",
              "      <td>True</td>\n",
              "    </tr>\n",
              "    <tr>\n",
              "      <th>...</th>\n",
              "      <td>...</td>\n",
              "      <td>...</td>\n",
              "      <td>...</td>\n",
              "      <td>...</td>\n",
              "      <td>...</td>\n",
              "      <td>...</td>\n",
              "      <td>...</td>\n",
              "      <td>...</td>\n",
              "      <td>...</td>\n",
              "      <td>...</td>\n",
              "      <td>...</td>\n",
              "      <td>...</td>\n",
              "      <td>...</td>\n",
              "      <td>...</td>\n",
              "      <td>...</td>\n",
              "    </tr>\n",
              "    <tr>\n",
              "      <th>9995</th>\n",
              "      <td>39</td>\n",
              "      <td>5</td>\n",
              "      <td>0.00</td>\n",
              "      <td>2</td>\n",
              "      <td>96270.64</td>\n",
              "      <td>0</td>\n",
              "      <td>False</td>\n",
              "      <td>True</td>\n",
              "      <td>True</td>\n",
              "      <td>False</td>\n",
              "      <td>False</td>\n",
              "      <td>False</td>\n",
              "      <td>True</td>\n",
              "      <td>True</td>\n",
              "      <td>False</td>\n",
              "    </tr>\n",
              "    <tr>\n",
              "      <th>9996</th>\n",
              "      <td>35</td>\n",
              "      <td>10</td>\n",
              "      <td>57369.61</td>\n",
              "      <td>1</td>\n",
              "      <td>101699.77</td>\n",
              "      <td>0</td>\n",
              "      <td>False</td>\n",
              "      <td>True</td>\n",
              "      <td>True</td>\n",
              "      <td>False</td>\n",
              "      <td>False</td>\n",
              "      <td>False</td>\n",
              "      <td>True</td>\n",
              "      <td>False</td>\n",
              "      <td>True</td>\n",
              "    </tr>\n",
              "    <tr>\n",
              "      <th>9997</th>\n",
              "      <td>36</td>\n",
              "      <td>7</td>\n",
              "      <td>0.00</td>\n",
              "      <td>1</td>\n",
              "      <td>42085.58</td>\n",
              "      <td>1</td>\n",
              "      <td>True</td>\n",
              "      <td>False</td>\n",
              "      <td>True</td>\n",
              "      <td>False</td>\n",
              "      <td>False</td>\n",
              "      <td>True</td>\n",
              "      <td>False</td>\n",
              "      <td>False</td>\n",
              "      <td>True</td>\n",
              "    </tr>\n",
              "    <tr>\n",
              "      <th>9998</th>\n",
              "      <td>42</td>\n",
              "      <td>3</td>\n",
              "      <td>75075.31</td>\n",
              "      <td>2</td>\n",
              "      <td>92888.52</td>\n",
              "      <td>1</td>\n",
              "      <td>False</td>\n",
              "      <td>True</td>\n",
              "      <td>False</td>\n",
              "      <td>True</td>\n",
              "      <td>False</td>\n",
              "      <td>False</td>\n",
              "      <td>True</td>\n",
              "      <td>True</td>\n",
              "      <td>False</td>\n",
              "    </tr>\n",
              "    <tr>\n",
              "      <th>9999</th>\n",
              "      <td>28</td>\n",
              "      <td>4</td>\n",
              "      <td>130142.79</td>\n",
              "      <td>1</td>\n",
              "      <td>38190.78</td>\n",
              "      <td>0</td>\n",
              "      <td>True</td>\n",
              "      <td>False</td>\n",
              "      <td>True</td>\n",
              "      <td>False</td>\n",
              "      <td>False</td>\n",
              "      <td>False</td>\n",
              "      <td>True</td>\n",
              "      <td>True</td>\n",
              "      <td>False</td>\n",
              "    </tr>\n",
              "  </tbody>\n",
              "</table>\n",
              "<p>10000 rows × 15 columns</p>\n",
              "</div>"
            ],
            "text/plain": [
              "      Age  Tenure    Balance  NumOfProducts  EstimatedSalary  Exited  \\\n",
              "0      42       2       0.00              1        101348.88       1   \n",
              "1      41       1   83807.86              1        112542.58       0   \n",
              "2      42       8  159660.80              3        113931.57       1   \n",
              "3      39       1       0.00              2         93826.63       0   \n",
              "4      43       2  125510.82              1         79084.10       0   \n",
              "...   ...     ...        ...            ...              ...     ...   \n",
              "9995   39       5       0.00              2         96270.64       0   \n",
              "9996   35      10   57369.61              1        101699.77       0   \n",
              "9997   36       7       0.00              1         42085.58       1   \n",
              "9998   42       3   75075.31              2         92888.52       1   \n",
              "9999   28       4  130142.79              1         38190.78       0   \n",
              "\n",
              "      Gender_Female  Gender_Male  Geography_France  Geography_Germany  \\\n",
              "0              True        False              True              False   \n",
              "1              True        False             False              False   \n",
              "2              True        False              True              False   \n",
              "3              True        False              True              False   \n",
              "4              True        False             False              False   \n",
              "...             ...          ...               ...                ...   \n",
              "9995          False         True              True              False   \n",
              "9996          False         True              True              False   \n",
              "9997           True        False              True              False   \n",
              "9998          False         True             False               True   \n",
              "9999           True        False              True              False   \n",
              "\n",
              "      Geography_Spain  HasCrCard_0  HasCrCard_1  IsActiveMember_0  \\\n",
              "0               False        False         True             False   \n",
              "1                True         True        False             False   \n",
              "2               False        False         True              True   \n",
              "3               False         True        False              True   \n",
              "4                True        False         True             False   \n",
              "...               ...          ...          ...               ...   \n",
              "9995            False        False         True              True   \n",
              "9996            False        False         True             False   \n",
              "9997            False         True        False             False   \n",
              "9998            False        False         True              True   \n",
              "9999            False        False         True              True   \n",
              "\n",
              "      IsActiveMember_1  \n",
              "0                 True  \n",
              "1                 True  \n",
              "2                False  \n",
              "3                False  \n",
              "4                 True  \n",
              "...                ...  \n",
              "9995             False  \n",
              "9996              True  \n",
              "9997              True  \n",
              "9998             False  \n",
              "9999             False  \n",
              "\n",
              "[10000 rows x 15 columns]"
            ]
          },
          "metadata": {},
          "output_type": "display_data"
        }
      ],
      "source": [
        "X_train ,X_test, y_train, y_test = tts(X_transform, y, test_size = 0.25, random_state = 123)\n",
        "display(df)"
      ]
    },
    {
      "cell_type": "markdown",
      "metadata": {
        "id": "9PPYhjm3YcAi"
      },
      "source": [
        "### Model #1"
      ]
    },
    {
      "cell_type": "code",
      "execution_count": null,
      "metadata": {
        "id": "uKzHsTMlWnl2",
        "outputId": "bdb8b919-15b6-4f89-ef93-29858cdc3a0d"
      },
      "outputs": [
        {
          "data": {
            "text/plain": [
              "'\\nModel yang kami digunakan dalam model 1 ini adalah Random Forest.\\nRandom Forest adalah algoritma ensemble yang menggabungkan beberapa pohon keputusan untuk meningkatkan akurasi dan mengurangi risiko overfitting. \\nIni adalah salah satu teknik yang paling umum digunakan dalam machine learning karena kemampuannya untuk menangani data yang kompleks dan beragam.\\nKami mencoba model tersebut dengan run time sekitar 15 menit dengan tingkat akurasi 86.2%\\n'"
            ]
          },
          "execution_count": 9,
          "metadata": {},
          "output_type": "execute_result"
        }
      ],
      "source": [
        "# [ PERTANYAAN ]\n",
        "# TODO: Jelaskan secara singkat model #1 yang Anda gunakan.\n",
        "\"\"\"\n",
        "Model yang kami digunakan dalam model 1 ini adalah Random Forest.\n",
        "Random Forest adalah algoritma ensemble yang menggabungkan beberapa pohon keputusan untuk meningkatkan akurasi dan mengurangi risiko overfitting.\n",
        "Ini adalah salah satu teknik yang paling umum digunakan dalam machine learning karena kemampuannya untuk menangani data yang kompleks dan beragam.\n",
        "Kami mencoba model tersebut d   engan run time sekitar 15 menit dengan tingkat akurasi 86.2%\n",
        "\"\"\""
      ]
    },
    {
      "cell_type": "markdown",
      "metadata": {
        "id": "HdGQYMEAW_5g"
      },
      "source": []
    },
    {
      "cell_type": "markdown",
      "metadata": {
        "id": "HrY74Es9Wnl2"
      },
      "source": [
        "[ ANSWER HERE ]"
      ]
    },
    {
      "cell_type": "code",
      "execution_count": null,
      "metadata": {
        "id": "bnqFXuCyYcAk"
      },
      "outputs": [],
      "source": [
        "from sklearn.ensemble import RandomForestClassifier\n",
        "from sklearn.model_selection import GridSearchCV\n",
        "from sklearn.metrics import classification_report, confusion_matrix, accuracy_score\n",
        "\n",
        "# TODO: Pilih salah satu model Machine Learning (ML) dari Scikit-learn\n",
        "model_rf = RandomForestClassifier()\n",
        "\n",
        "params = {\n",
        "    'n_estimators': [100, 200, 300],\n",
        "    'max_depth': [None, 10, 20, 30],\n",
        "    'min_samples_split': [2, 5, 10],\n",
        "    'min_samples_leaf': [1, 2, 4],\n",
        "    'max_features': [None, 'sqrt', 'log2'],\n",
        "}\n",
        "\n",
        "# OPTIONAL: Lakukan hyperparameter tuning sesuai kebutuhan\n",
        "grid = GridSearchCV(\n",
        "    estimator=model_rf,\n",
        "    param_grid=params,\n",
        "    scoring='accuracy',\n",
        "    n_jobs=10,\n",
        "    cv=10\n",
        ")\n",
        "\n",
        "grid.fit(X_train, y_train)\n",
        "best_params = grid.best_params_"
      ]
    },
    {
      "cell_type": "code",
      "execution_count": null,
      "metadata": {
        "id": "1f32JE8kYcAk",
        "outputId": "8e00f63f-3adf-4ad1-c934-e7ec75e93cce"
      },
      "outputs": [
        {
          "name": "stdout",
          "output_type": "stream",
          "text": [
            "              precision    recall  f1-score   support\n",
            "\n",
            "           0       0.88      0.96      0.92      1983\n",
            "           1       0.76      0.49      0.60       517\n",
            "\n",
            "    accuracy                           0.86      2500\n",
            "   macro avg       0.82      0.73      0.76      2500\n",
            "weighted avg       0.85      0.86      0.85      2500\n",
            "\n",
            "\n",
            "[[1904   79]\n",
            " [ 263  254]]\n",
            "\n",
            "0.8632\n"
          ]
        }
      ],
      "source": [
        "y_pred = grid.predict(X_test) # TODO: Lakukan evaluasi untuk model #1\n",
        "\n",
        "print(classification_report(y_test, y_pred))\n",
        "print(\"\")\n",
        "print(confusion_matrix(y_test, y_pred))\n",
        "print(\"\")\n",
        "print(accuracy_score(y_test, y_pred))"
      ]
    },
    {
      "cell_type": "markdown",
      "metadata": {
        "id": "QC2bZDEgWnl3"
      },
      "source": [
        "### Model #2"
      ]
    },
    {
      "cell_type": "code",
      "execution_count": null,
      "metadata": {
        "id": "0E-cJCOWWnl3",
        "outputId": "a63f9bb1-c339-4525-81be-4c049bffd4d1"
      },
      "outputs": [
        {
          "data": {
            "text/plain": [
              "'\\nModel yang kami gunakan pada model 2 ini adalah Support Vector Classifier (SVC).\\nSupport Vector Classifier (SVC) adalah teknik machine learning yang bertujuan untuk menemukan \\nhyperplane optimal yang dapat memisahkan kelas-kelas dalam data dengan margin maksimal. \\nSVC dapat digunakan untuk masalah klasifikasi biner maupun multi-kelas. \\nModel ini terkenal karena kemampuannya dalam bekerja dengan data yang tidak terpisah secara linear melalui penggunaan kernel trick.\\nKami mencoba model tersebut dengan run time sekitar 10 menit dengan tingkat akurasi 86.4%\\n'"
            ]
          },
          "execution_count": 12,
          "metadata": {},
          "output_type": "execute_result"
        }
      ],
      "source": [
        "# [ PERTANYAAN ]\n",
        "# TODO: Jelaskan secara singkat model #2 yang Anda gunakan.\n",
        "\"\"\"\n",
        "Model yang kami gunakan pada model 2 ini adalah Support Vector Classifier (SVC).\n",
        "Support Vector Classifier (SVC) adalah teknik machine learning yang bertujuan untuk menemukan\n",
        "hyperplane optimal yang dapat memisahkan kelas-kelas dalam data dengan margin maksimal.\n",
        "SVC dapat digunakan untuk masalah klasifikasi biner maupun multi-kelas.\n",
        "Model ini terkenal karena kemampuannya dalam bekerja dengan data yang tidak terpisah secara linear melalui penggunaan kernel trick.\n",
        "Kami mencoba model tersebut dengan run time sekitar 10 menit dengan tingkat akurasi 86.4%\n",
        "\"\"\""
      ]
    },
    {
      "cell_type": "markdown",
      "metadata": {
        "id": "kYG5Aw9lWnl3"
      },
      "source": [
        "[ ANSWER HERE ]"
      ]
    },
    {
      "cell_type": "code",
      "execution_count": null,
      "metadata": {
        "id": "EogFTpjTWnl3"
      },
      "outputs": [],
      "source": [
        "import numpy as np\n",
        "import pandas as pd\n",
        "from sklearn.svm import SVC\n",
        "from sklearn.model_selection import GridSearchCV\n",
        "from sklearn.metrics import classification_report, confusion_matrix, accuracy_score\n",
        "\n",
        "\n",
        "# TODO: Pilih salah satu model Machine Learning (ML) dari Scikit-learn\n",
        "model2 = SVC()\n",
        "params = {\n",
        "    'C': [0.1, 1, 10, 100],\n",
        "    'kernel': ['linear', 'rbf', 'poly'],\n",
        "    'gamma': ['scale', 'auto']\n",
        "}\n",
        "\n",
        "# OPTIONAL: Lakukan hyperparameter tuning sesuai kebutuhan\n",
        "grid = GridSearchCV(\n",
        "    estimator=model2,\n",
        "    param_grid=params,\n",
        "    scoring='accuracy',\n",
        "    n_jobs=10,\n",
        "    cv=10\n",
        ")\n",
        "\n",
        "grid.fit(X_train, y_train)\n",
        "best_params = grid.best_params_"
      ]
    },
    {
      "cell_type": "code",
      "execution_count": null,
      "metadata": {
        "id": "KzYn9-m-Wnl3",
        "outputId": "b6f92f65-c889-4ac3-8e7d-0a3f262d1aac"
      },
      "outputs": [
        {
          "name": "stdout",
          "output_type": "stream",
          "text": [
            "              precision    recall  f1-score   support\n",
            "\n",
            "           0       0.87      0.98      0.92      1983\n",
            "           1       0.82      0.44      0.57       517\n",
            "\n",
            "    accuracy                           0.86      2500\n",
            "   macro avg       0.85      0.71      0.74      2500\n",
            "weighted avg       0.86      0.86      0.85      2500\n",
            "\n",
            "\n",
            "[[1935   48]\n",
            " [ 292  225]]\n",
            "\n",
            "0.864\n"
          ]
        }
      ],
      "source": [
        "y_pred = grid.predict(X_test)  # TODO: Lakukan evaluasi untuk model #2\n",
        "\n",
        "print(classification_report(y_test, y_pred))\n",
        "print(\"\")\n",
        "print(confusion_matrix(y_test, y_pred))\n",
        "print(\"\")\n",
        "print(accuracy_score(y_test, y_pred))"
      ]
    },
    {
      "cell_type": "markdown",
      "metadata": {
        "id": "-TGRl-aiWnl3"
      },
      "source": [
        "### Model #3"
      ]
    },
    {
      "cell_type": "code",
      "execution_count": null,
      "metadata": {
        "id": "BLuDtLgUWnl3",
        "outputId": "eaf3219e-80d4-4b74-b217-e947567a8ff2",
        "colab": {
          "base_uri": "https://localhost:8080/",
          "height": 53
        }
      },
      "outputs": [
        {
          "output_type": "execute_result",
          "data": {
            "text/plain": [
              "'\\nModel yang kami gunakan pada model 3 ini adalah GradientBoostingClassifier.\\nKode di atas menggunakan Gradient Boosting Classifier untuk melakukan klasifikasi.\\nModel ini merupakan metode ensemble yang membangun sejumlah pohon keputusan secara bertahap,\\ndi mana setiap pohon baru memperbaiki kesalahan dari pohon sebelumnya.\\nKami mencoba model tersebut dengan run time sekitar 3 menit dengan tingkat akurasi 86.64%\\n'"
            ],
            "application/vnd.google.colaboratory.intrinsic+json": {
              "type": "string"
            }
          },
          "metadata": {},
          "execution_count": 1
        }
      ],
      "source": [
        "# [ PERTANYAAN ]\n",
        "# TODO: Jelaskan secara singkat model #3 yang Anda gunakan.\n",
        "\"\"\"\n",
        "Model yang kami gunakan pada model 3 ini adalah GradientBoostingClassifier.\n",
        "Kode di atas menggunakan Gradient Boosting Classifier untuk melakukan klasifikasi.\n",
        "Model ini merupakan metode ensemble yang membangun sejumlah pohon keputusan secara bertahap,\n",
        "di mana setiap pohon baru memperbaiki kesalahan dari pohon sebelumnya.\n",
        "Kami mencoba model tersebut dengan run time sekitar 3 menit dengan tingkat akurasi 86.64%\n",
        "\"\"\""
      ]
    },
    {
      "cell_type": "markdown",
      "metadata": {
        "id": "x-wCM_PrWnl3"
      },
      "source": [
        "[ ANSWER HERE ]"
      ]
    },
    {
      "cell_type": "code",
      "execution_count": null,
      "metadata": {
        "id": "4SDOvFE0Wnl3"
      },
      "outputs": [],
      "source": [
        "from sklearn.ensemble import GradientBoostingClassifier\n",
        "from sklearn.model_selection import GridSearchCV\n",
        "\n",
        "# TODO: Pilih salah satu model Machine Learning (ML) dari Scikit-learn\n",
        "model3 = GradientBoostingClassifier()\n",
        "\n",
        "params = {\n",
        "    \"n_estimators\": [100, 200],\n",
        "    \"learning_rate\": [0.01, 0.1],\n",
        "    \"max_depth\": [3, 5],\n",
        "    \"min_samples_split\": [2, 5],\n",
        "    \"min_samples_leaf\": [1, 2]\n",
        "}\n",
        "\n",
        "# OPTIONAL: Lakukan hyperparameter tuning sesuai kebutuhan\n",
        "grid = GridSearchCV(\n",
        "    estimator=model3,\n",
        "    param_grid=params,\n",
        "    scoring='accuracy',\n",
        "    n_jobs=10,\n",
        "    cv=10\n",
        ")\n",
        "\n",
        "grid.fit(X_train, y_train)\n",
        "best_params = grid.best_params_\n"
      ]
    },
    {
      "cell_type": "code",
      "execution_count": null,
      "metadata": {
        "id": "zpIgSaUMWnl3",
        "outputId": "cb88ff76-9af6-4d7f-8619-86e5de8b8381"
      },
      "outputs": [
        {
          "name": "stdout",
          "output_type": "stream",
          "text": [
            "              precision    recall  f1-score   support\n",
            "\n",
            "           0       0.88      0.96      0.92      1983\n",
            "           1       0.76      0.51      0.61       517\n",
            "\n",
            "    accuracy                           0.87      2500\n",
            "   macro avg       0.82      0.74      0.77      2500\n",
            "weighted avg       0.86      0.87      0.86      2500\n",
            "\n",
            "\n",
            "[[1901   82]\n",
            " [ 252  265]]\n",
            "\n",
            "0.8664\n"
          ]
        }
      ],
      "source": [
        "y_pred = grid.predict(X_test)  # TODO: Lakukan evaluasi untuk model #3\n",
        "\n",
        "print(classification_report(y_test, y_pred))\n",
        "print(\"\")\n",
        "print(confusion_matrix(y_test, y_pred))\n",
        "print(\"\")\n",
        "print(accuracy_score(y_test, y_pred))"
      ]
    },
    {
      "cell_type": "markdown",
      "metadata": {
        "id": "ajeN7rYVWnl3"
      },
      "source": [
        "### Conclusion"
      ]
    },
    {
      "cell_type": "code",
      "execution_count": null,
      "metadata": {
        "id": "A2ZRjrxbWnl3"
      },
      "outputs": [],
      "source": [
        "# [ PERTANYAAN ]\n",
        "# TODO: Tarik kesimpulan model mana yang terbaik beserta alasannya\n",
        "\n",
        "\"\"\"\n",
        "Gradient Boosting Classifier dapat mengatasi masalah yang kompleks dengan membangun beberapa pohon keputusan yang memperbaiki kesalahan dari model sebelumnya,\n",
        "sehingga model ini cenderung lebih baik dalam menangani variabilitas dalam data. Meskipun waktu komputasinya lebih singkat\n",
        "(sekitar 3 menit) dibandingkan Random Forest (15 menit) dan SVC (10 menit), Gradient Boosting tetap memberikan performa yang lebih tinggi,\n",
        "menjadikannya pilihan terbaik dalam tugas klasifikasi ini.\n",
        "\"\"\""
      ]
    },
    {
      "cell_type": "markdown",
      "metadata": {
        "id": "n5Z3OQN54rb-"
      },
      "source": [
        "[ ANSWER HERE ]"
      ]
    },
    {
      "cell_type": "markdown",
      "metadata": {
        "id": "Kd8Td1YsV23w"
      },
      "source": [
        "### Scoring\n",
        "Total `#TODO` = 13\n",
        "<br>Checklist:\n",
        "\n",
        "- [ ] Hilangkan kolom yang tidak relevan untuk pemodelan\n",
        "- [ ] Lakukan One-Hot Encoder untuk data kategorikal, dengan fungsi pd.get_dummies\n",
        "- [ ] Pisahkan fitur (X) dengan target (Y), dimana Y merujuk ke kolom \"Exited\"\n",
        "- [ ] Lakukan scaling atau normalisasi\n",
        "- [ ] Jelaskan secara singkat model #1 yang Anda gunakan\n",
        "- [ ] Pilih salah satu model Machine Learning (ML) dari Scikit-learn (model #1)\n",
        "- [ ] Lakukan evaluasi untuk model #1\n",
        "- [ ] Jelaskan secara singkat model #2 yang Anda gunakan\n",
        "- [ ] Pilih salah satu model Machine Learning (ML) dari Scikit-learn (model #2)\n",
        "- [ ] Lakukan evaluasi untuk model #2\n",
        "- [ ] Jelaskan secara singkat model #3 yang Anda gunakan\n",
        "- [ ] Pilih salah satu model Machine Learning (ML) dari Scikit-learn (model #3)\n",
        "- [ ] Lakukan evaluasi untuk model #3"
      ]
    },
    {
      "cell_type": "markdown",
      "metadata": {
        "id": "nu54eCVrV23w"
      },
      "source": [
        "### Additional readings\n",
        "- N/A"
      ]
    },
    {
      "cell_type": "markdown",
      "metadata": {
        "id": "8lozabSPV23w"
      },
      "source": [
        "### Copyright © 2024 Startup Campus, Indonesia\n",
        "* You may **NOT** use this file except there is written permission from PT. Kampus Merdeka Belajar (Startup Campus).\n",
        "* Please address your questions to mentors."
      ]
    }
  ],
  "metadata": {
    "colab": {
      "provenance": []
    },
    "kernelspec": {
      "display_name": "Python 3",
      "language": "python",
      "name": "python3"
    },
    "language_info": {
      "codemirror_mode": {
        "name": "ipython",
        "version": 3
      },
      "file_extension": ".py",
      "mimetype": "text/x-python",
      "name": "python",
      "nbconvert_exporter": "python",
      "pygments_lexer": "ipython3",
      "version": "3.12.1"
    },
    "toc-autonumbering": true,
    "toc-showcode": false,
    "toc-showmarkdowntxt": false
  },
  "nbformat": 4,
  "nbformat_minor": 0
}